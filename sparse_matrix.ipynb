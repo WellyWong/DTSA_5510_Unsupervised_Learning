{
 "cells": [
  {
   "cell_type": "code",
   "execution_count": 1,
   "id": "7f0f5de2",
   "metadata": {},
   "outputs": [],
   "source": [
    "import numpy as np"
   ]
  },
  {
   "cell_type": "code",
   "execution_count": 2,
   "id": "753eccb3",
   "metadata": {},
   "outputs": [],
   "source": [
    "# Given 2 sparse matrices A and B, return the result of matrix multiplication C = AB\n",
    "\n",
    "class SparseMatrix(object):\n",
    "    def __init__(self, nrow, ncol, S):\n",
    "        self.nrow = nrow\n",
    "        self.ncol = ncol\n",
    "        self.S = S\n",
    "    \n",
    "    @staticmethod\n",
    "    def to_sparse(M):\n",
    "        S = dict()\n",
    "        for r, row in enumerate(M):\n",
    "            for c, value in enumerate(row):\n",
    "                if value:\n",
    "                    S[(r, c)] = value\n",
    "        return S\n",
    "     \n",
    "    @classmethod\n",
    "    def from_dense(cls, M):\n",
    "        nrow, ncol = len(M), len(M[0])\n",
    "        S = cls.to_sparse(M)\n",
    "        return cls(nrow, ncol, S)\n",
    "    \n",
    "    @classmethod\n",
    "    def from_sparse(cls, nrow, ncol, S):\n",
    "        return cls(nrow, ncol, S)\n",
    "    \n",
    "    def matmul(self, B):\n",
    "        C = dict()\n",
    "        for (a_r, a_c), a_val in self.S.items():\n",
    "            for b_c in range(B.ncol):\n",
    "                if (a_c, b_c) in B.S:\n",
    "                    b_val = B.S[(a_c, b_c)]\n",
    "                    C[(a_r, b_c)] = C.get((a_r, b_c), 0) + a_val * b_val\n",
    "        return self.from_sparse(self.nrow, B.ncol, C)\n",
    "    \n",
    "    def to_dense(self):\n",
    "        M = [[0] * self.ncol for _ in range(self.nrow)]\n",
    "        for (r, c), value in self.S.items():\n",
    "            M[r][c] = value\n",
    "        return M            "
   ]
  },
  {
   "cell_type": "code",
   "execution_count": 7,
   "id": "06b4f1f6",
   "metadata": {},
   "outputs": [],
   "source": [
    "def multiply(A, B):\n",
    "    A = SparseMatrix.from_dense(A)\n",
    "    B = SparseMatrix.from_dense(B)\n",
    "    C = A.matmul(B)\n",
    "    return C.to_dense()"
   ]
  },
  {
   "cell_type": "code",
   "execution_count": 8,
   "id": "5f231e8b",
   "metadata": {},
   "outputs": [],
   "source": [
    "matA = np.array([[1, 0, 0], [-1, 0, 3]])\n",
    "matB = np.array([[7, 0, 0], [0, 0, 0], [0, 0, 1]])"
   ]
  },
  {
   "cell_type": "code",
   "execution_count": 9,
   "id": "624c14b1",
   "metadata": {},
   "outputs": [],
   "source": [
    "matC = multiply(matA, matB)"
   ]
  },
  {
   "cell_type": "code",
   "execution_count": 10,
   "id": "50200cee",
   "metadata": {},
   "outputs": [
    {
     "data": {
      "text/plain": [
       "[[7, 0, 0], [-7, 0, 3]]"
      ]
     },
     "execution_count": 10,
     "metadata": {},
     "output_type": "execute_result"
    }
   ],
   "source": [
    "matC"
   ]
  },
  {
   "cell_type": "code",
   "execution_count": null,
   "id": "916130e3",
   "metadata": {},
   "outputs": [],
   "source": []
  },
  {
   "cell_type": "markdown",
   "id": "c34b3331",
   "metadata": {},
   "source": [
    "### Jaccard Similarity\n",
    "The code below manipulates scipy.sparse.csc_matrix’s raw representation directly"
   ]
  },
  {
   "cell_type": "code",
   "execution_count": 15,
   "id": "638eac54",
   "metadata": {},
   "outputs": [],
   "source": [
    "import numpy as np\n",
    "import pandas as pd\n",
    "from scipy.sparse import csr_matrix, csc_matrix"
   ]
  },
  {
   "cell_type": "code",
   "execution_count": 16,
   "id": "9f6ebe65",
   "metadata": {},
   "outputs": [],
   "source": [
    "def jaccard_similarities(mat):\n",
    "    cols_sum = mat.getnnz(axis=0)\n",
    "    ab = mat.T * mat\n",
    "\n",
    "    # for rows\n",
    "    aa = np.repeat(cols_sum, ab.getnnz(axis=0))\n",
    "    # for columns\n",
    "    bb = cols_sum[ab.indices]\n",
    "\n",
    "    similarities = ab.copy()\n",
    "    similarities.data = similarities.data / (aa + bb - ab.data)\n",
    "\n",
    "    return similarities"
   ]
  },
  {
   "cell_type": "code",
   "execution_count": 22,
   "id": "d876539a",
   "metadata": {},
   "outputs": [
    {
     "data": {
      "text/html": [
       "<div>\n",
       "<style scoped>\n",
       "    .dataframe tbody tr th:only-of-type {\n",
       "        vertical-align: middle;\n",
       "    }\n",
       "\n",
       "    .dataframe tbody tr th {\n",
       "        vertical-align: top;\n",
       "    }\n",
       "\n",
       "    .dataframe thead th {\n",
       "        text-align: right;\n",
       "    }\n",
       "</style>\n",
       "<table border=\"1\" class=\"dataframe\">\n",
       "  <thead>\n",
       "    <tr style=\"text-align: right;\">\n",
       "      <th></th>\n",
       "      <th>F0</th>\n",
       "      <th>F1</th>\n",
       "      <th>F2</th>\n",
       "      <th>F3</th>\n",
       "      <th>F4</th>\n",
       "      <th>F5</th>\n",
       "      <th>F6</th>\n",
       "      <th>F7</th>\n",
       "      <th>F8</th>\n",
       "    </tr>\n",
       "  </thead>\n",
       "  <tbody>\n",
       "    <tr>\n",
       "      <th>User1</th>\n",
       "      <td>0</td>\n",
       "      <td>1</td>\n",
       "      <td>0</td>\n",
       "      <td>0</td>\n",
       "      <td>0</td>\n",
       "      <td>1</td>\n",
       "      <td>0</td>\n",
       "      <td>0</td>\n",
       "      <td>1</td>\n",
       "    </tr>\n",
       "    <tr>\n",
       "      <th>User2</th>\n",
       "      <td>0</td>\n",
       "      <td>0</td>\n",
       "      <td>1</td>\n",
       "      <td>0</td>\n",
       "      <td>0</td>\n",
       "      <td>0</td>\n",
       "      <td>0</td>\n",
       "      <td>0</td>\n",
       "      <td>1</td>\n",
       "    </tr>\n",
       "    <tr>\n",
       "      <th>User3</th>\n",
       "      <td>1</td>\n",
       "      <td>1</td>\n",
       "      <td>0</td>\n",
       "      <td>0</td>\n",
       "      <td>0</td>\n",
       "      <td>1</td>\n",
       "      <td>0</td>\n",
       "      <td>0</td>\n",
       "      <td>0</td>\n",
       "    </tr>\n",
       "  </tbody>\n",
       "</table>\n",
       "</div>"
      ],
      "text/plain": [
       "       F0  F1  F2  F3  F4  F5  F6  F7  F8\n",
       "User1   0   1   0   0   0   1   0   0   1\n",
       "User2   0   0   1   0   0   0   0   0   1\n",
       "User3   1   1   0   0   0   1   0   0   0"
      ]
     },
     "execution_count": 22,
     "metadata": {},
     "output_type": "execute_result"
    }
   ],
   "source": [
    "data = [[0,1,0,0,0,1,0,0,1], [0,0,1,0,0,0,0,0,1], [1,1,0,0,0,1,0,0,0]]\n",
    "R = pd.DataFrame(data, columns=['F0','F1', 'F2', 'F3', 'F4', 'F5', 'F6', 'F7', 'F8'], index=['User1', 'User2', 'User3'])\n",
    "R"
   ]
  },
  {
   "cell_type": "code",
   "execution_count": 23,
   "id": "da5a17f3",
   "metadata": {},
   "outputs": [],
   "source": [
    "# User-user similarities\n",
    "jac_sim = jaccard_similarities(csc_matrix(R.T))"
   ]
  },
  {
   "cell_type": "code",
   "execution_count": 24,
   "id": "5f57e6a8",
   "metadata": {},
   "outputs": [
    {
     "name": "stdout",
     "output_type": "stream",
     "text": [
      "  (0, 1)\t0.25\n",
      "  (0, 2)\t0.5\n",
      "  (0, 0)\t1.0\n",
      "  (1, 0)\t0.25\n",
      "  (1, 1)\t1.0\n",
      "  (2, 0)\t0.5\n",
      "  (2, 2)\t1.0\n"
     ]
    }
   ],
   "source": [
    "print(jac_sim)"
   ]
  },
  {
   "cell_type": "code",
   "execution_count": 25,
   "id": "4dc8d35a",
   "metadata": {},
   "outputs": [
    {
     "data": {
      "text/plain": [
       "array([[1.  , 0.25, 0.5 ],\n",
       "       [0.25, 1.  , 0.  ],\n",
       "       [0.5 , 0.  , 1.  ]])"
      ]
     },
     "execution_count": 25,
     "metadata": {},
     "output_type": "execute_result"
    }
   ],
   "source": [
    "jac_sim.toarray()"
   ]
  },
  {
   "cell_type": "code",
   "execution_count": null,
   "id": "6360d8a8",
   "metadata": {},
   "outputs": [],
   "source": []
  },
  {
   "cell_type": "code",
   "execution_count": 26,
   "id": "f87dc1bd",
   "metadata": {},
   "outputs": [
    {
     "data": {
      "text/plain": [
       "array([[1.  , 0.25, 0.5 ],\n",
       "       [0.25, 1.  , 0.  ],\n",
       "       [0.5 , 0.  , 1.  ]])"
      ]
     },
     "execution_count": 26,
     "metadata": {},
     "output_type": "execute_result"
    }
   ],
   "source": [
    "# Another way\n",
    "n = len(R)\n",
    "X = R.T.values\n",
    "csr = csr_matrix((X > 0).astype(int))\n",
    "intersect = csr.T.dot(csr).toarray()\n",
    "rowsum = R.values.sum(axis=1)\n",
    "rsumtile = np.repeat(rowsum.reshape((n, 1)), n, axis=1)\n",
    "union = rsumtile.T + rsumtile - intersect\n",
    "jaccard_similarity = intersect / union\n",
    "jaccard_similarity"
   ]
  },
  {
   "cell_type": "code",
   "execution_count": null,
   "id": "328b2dd7",
   "metadata": {},
   "outputs": [],
   "source": []
  }
 ],
 "metadata": {
  "kernelspec": {
   "display_name": "Python 3 (ipykernel)",
   "language": "python",
   "name": "python3"
  },
  "language_info": {
   "codemirror_mode": {
    "name": "ipython",
    "version": 3
   },
   "file_extension": ".py",
   "mimetype": "text/x-python",
   "name": "python",
   "nbconvert_exporter": "python",
   "pygments_lexer": "ipython3",
   "version": "3.11.3"
  }
 },
 "nbformat": 4,
 "nbformat_minor": 5
}
