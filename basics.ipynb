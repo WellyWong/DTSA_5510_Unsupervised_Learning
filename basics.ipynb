{
 "cells": [
  {
   "cell_type": "markdown",
   "id": "b5ed9eac",
   "metadata": {},
   "source": [
    "### Matrix Multiplication"
   ]
  },
  {
   "cell_type": "code",
   "execution_count": 1,
   "id": "acc0a912",
   "metadata": {},
   "outputs": [],
   "source": [
    "import numpy as np"
   ]
  },
  {
   "cell_type": "code",
   "execution_count": 2,
   "id": "73b51724",
   "metadata": {},
   "outputs": [],
   "source": [
    "m1 = np.array([[1, 2, 3], [4, 5, 6], [7, 8, 9]])\n",
    "m2 = np.array([[2, 4, 6], [1, 3, 5], [1, 2, 3]])\n",
    "m3 = np.zeros((3, 3))"
   ]
  },
  {
   "cell_type": "code",
   "execution_count": 3,
   "id": "54442d87",
   "metadata": {},
   "outputs": [
    {
     "data": {
      "text/plain": [
       "array([[  7,  16,  25],\n",
       "       [ 19,  43,  67],\n",
       "       [ 31,  70, 109]])"
      ]
     },
     "execution_count": 3,
     "metadata": {},
     "output_type": "execute_result"
    }
   ],
   "source": [
    "m1.dot(m2)"
   ]
  },
  {
   "cell_type": "code",
   "execution_count": 4,
   "id": "30db9010",
   "metadata": {},
   "outputs": [
    {
     "data": {
      "text/plain": [
       "array([[  7,  16,  25],\n",
       "       [ 19,  43,  67],\n",
       "       [ 31,  70, 109]])"
      ]
     },
     "execution_count": 4,
     "metadata": {},
     "output_type": "execute_result"
    }
   ],
   "source": [
    "np.matmul(m1, m2)"
   ]
  },
  {
   "cell_type": "code",
   "execution_count": 5,
   "id": "979050a6",
   "metadata": {},
   "outputs": [],
   "source": [
    "def matmul(m1, m2):\n",
    "    row_m1 = m1.shape[0]\n",
    "    col_m2 = m2.shape[1]\n",
    "    col_m1 = row_m2 = m2.shape[0]\n",
    "    m3 = np.zeros((row_m1, col_m2))\n",
    "    # iterate through rows of M1\n",
    "    for i in range(row_m1):\n",
    "    \n",
    "        # iterate through columns of M2\n",
    "        for j in range(col_m2):\n",
    "        \n",
    "            # iterate through cols of M1 and rows of M2 \n",
    "            for k in range(m2.shape[0]):\n",
    "                m3[i, j] += m1[i, k] * m2[k, j]\n",
    "    return m3"
   ]
  },
  {
   "cell_type": "code",
   "execution_count": 6,
   "id": "32f27660",
   "metadata": {},
   "outputs": [
    {
     "data": {
      "text/plain": [
       "array([[  7.,  16.,  25.],\n",
       "       [ 19.,  43.,  67.],\n",
       "       [ 31.,  70., 109.]])"
      ]
     },
     "execution_count": 6,
     "metadata": {},
     "output_type": "execute_result"
    }
   ],
   "source": [
    "matmul(m1, m2)"
   ]
  },
  {
   "cell_type": "markdown",
   "id": "faaedd25",
   "metadata": {},
   "source": [
    "### numpy vectorize"
   ]
  },
  {
   "cell_type": "code",
   "execution_count": 7,
   "id": "3f0e6086",
   "metadata": {},
   "outputs": [],
   "source": [
    "def myfunc(a, b):\n",
    "    \"Return a-b if a>b, otherwise return a+b\"\n",
    "    if a > b:\n",
    "        return a - b\n",
    "    else:\n",
    "        return a + b"
   ]
  },
  {
   "cell_type": "code",
   "execution_count": 8,
   "id": "9b06a780",
   "metadata": {},
   "outputs": [
    {
     "data": {
      "text/plain": [
       "array([3, 4, 1, 2])"
      ]
     },
     "execution_count": 8,
     "metadata": {},
     "output_type": "execute_result"
    }
   ],
   "source": [
    "vectorize_myfunc = np.vectorize(myfunc)\n",
    "vectorize_myfunc([1, 2, 3, 4], 2)"
   ]
  },
  {
   "cell_type": "markdown",
   "id": "8ffa2545",
   "metadata": {},
   "source": [
    "### numpy min, argmin"
   ]
  },
  {
   "cell_type": "code",
   "execution_count": 9,
   "id": "dc35e94a",
   "metadata": {},
   "outputs": [],
   "source": [
    "a = np.array([[10 , 4,  2],\n",
    "              [1,  6,  3]])"
   ]
  },
  {
   "cell_type": "code",
   "execution_count": 10,
   "id": "0a02076f",
   "metadata": {},
   "outputs": [
    {
     "name": "stdout",
     "output_type": "stream",
     "text": [
      "1\n",
      "1\n"
     ]
    }
   ],
   "source": [
    "# min()\n",
    "print(a.min())\n",
    "stored = a[0, 0]\n",
    "for row in a:\n",
    "    for item in row:\n",
    "        if item < stored:\n",
    "            stored = item\n",
    "print(stored)"
   ]
  },
  {
   "cell_type": "code",
   "execution_count": 11,
   "id": "74bb53fa",
   "metadata": {},
   "outputs": [
    {
     "data": {
      "text/plain": [
       "array([2, 0], dtype=int64)"
      ]
     },
     "execution_count": 11,
     "metadata": {},
     "output_type": "execute_result"
    }
   ],
   "source": [
    "# argmin()\n",
    "np.argmin(a, axis=1)"
   ]
  },
  {
   "cell_type": "code",
   "execution_count": 12,
   "id": "71dda5f5",
   "metadata": {},
   "outputs": [
    {
     "data": {
      "text/plain": [
       "[2, 0]"
      ]
     },
     "execution_count": 12,
     "metadata": {},
     "output_type": "execute_result"
    }
   ],
   "source": [
    "# argmin()\n",
    "min_list = []\n",
    "for row in a:\n",
    "    stored = row[0]\n",
    "    min_index = index = 0\n",
    "    for j in row:\n",
    "        if j < stored:\n",
    "            stored = j\n",
    "            min_index = index\n",
    "        index += 1\n",
    "    min_list.append(min_index)\n",
    "min_list"
   ]
  },
  {
   "cell_type": "markdown",
   "id": "dda0fb8b",
   "metadata": {},
   "source": [
    "### Check Version"
   ]
  },
  {
   "cell_type": "code",
   "execution_count": 1,
   "id": "6c2322ec",
   "metadata": {},
   "outputs": [
    {
     "name": "stdout",
     "output_type": "stream",
     "text": [
      "3.11.3 | packaged by Anaconda, Inc. | (main, Apr 19 2023, 23:46:34) [MSC v.1916 64 bit (AMD64)]\n"
     ]
    }
   ],
   "source": [
    "import numpy as np\n",
    "import sys\n",
    "from sklearn.preprocessing import RobustScaler, StandardScaler, MinMaxScaler, MaxAbsScaler\n",
    "\n",
    "print(sys.version)"
   ]
  },
  {
   "cell_type": "code",
   "execution_count": 2,
   "id": "f68ef251",
   "metadata": {},
   "outputs": [
    {
     "name": "stdout",
     "output_type": "stream",
     "text": [
      "Python 3.11.3\n"
     ]
    }
   ],
   "source": [
    "!python --version"
   ]
  },
  {
   "cell_type": "code",
   "execution_count": 3,
   "id": "b21f153c",
   "metadata": {},
   "outputs": [
    {
     "name": "stdout",
     "output_type": "stream",
     "text": [
      "numpy:  1.24.3\n"
     ]
    }
   ],
   "source": [
    "print('numpy: ', np.__version__)"
   ]
  },
  {
   "cell_type": "markdown",
   "id": "5b023e44",
   "metadata": {},
   "source": [
    "### Sklearn RobustScaler for data with outliers"
   ]
  },
  {
   "cell_type": "code",
   "execution_count": 20,
   "id": "1d5d3cf5",
   "metadata": {},
   "outputs": [],
   "source": [
    "X_train = np.array([[1, 2, 3], [4, 5, 6], [3, 6, 8], [7, 999, 999]])"
   ]
  },
  {
   "cell_type": "code",
   "execution_count": 23,
   "id": "f087fdf9",
   "metadata": {},
   "outputs": [
    {
     "data": {
      "text/plain": [
       "array([[-1.11, -0.01, -0.02],\n",
       "       [ 0.22, -0.  , -0.  ],\n",
       "       [-0.22,  0.  ,  0.  ],\n",
       "       [ 1.56,  3.97,  3.96]])"
      ]
     },
     "execution_count": 23,
     "metadata": {},
     "output_type": "execute_result"
    }
   ],
   "source": [
    "scaler = RobustScaler().fit(X_train)\n",
    "X_train_scaled = scaler.transform(X_train)\n",
    "X_train_scaled.round(2)"
   ]
  },
  {
   "cell_type": "code",
   "execution_count": 24,
   "id": "01dfcbd2",
   "metadata": {},
   "outputs": [
    {
     "data": {
      "text/plain": [
       "array([[-1.27, -0.58, -0.58],\n",
       "       [ 0.12, -0.58, -0.58],\n",
       "       [-0.35, -0.57, -0.57],\n",
       "       [ 1.5 ,  1.73,  1.73]])"
      ]
     },
     "execution_count": 24,
     "metadata": {},
     "output_type": "execute_result"
    }
   ],
   "source": [
    "scaler = StandardScaler()\n",
    "X_train_scaled = scaler.fit_transform(X_train)\n",
    "X_train_scaled.round(2)"
   ]
  },
  {
   "cell_type": "code",
   "execution_count": 28,
   "id": "fb954924",
   "metadata": {},
   "outputs": [
    {
     "data": {
      "text/plain": [
       "array([[0.14, 0.  , 0.  ],\n",
       "       [0.57, 0.01, 0.01],\n",
       "       [0.43, 0.01, 0.01],\n",
       "       [1.  , 1.  , 1.  ]])"
      ]
     },
     "execution_count": 28,
     "metadata": {},
     "output_type": "execute_result"
    }
   ],
   "source": [
    "scaler = MaxAbsScaler()\n",
    "X_train_scaled = scaler.fit_transform(X_train)\n",
    "X_train_scaled.round(2)"
   ]
  },
  {
   "cell_type": "code",
   "execution_count": null,
   "id": "f0ab6305",
   "metadata": {},
   "outputs": [],
   "source": []
  },
  {
   "cell_type": "code",
   "execution_count": null,
   "id": "b8466aa9",
   "metadata": {},
   "outputs": [],
   "source": [
    "Intuiton:\n",
    "\n",
    "Some neural network classifier's probabilistic output values for three labels:\n",
    "        \n",
    "                Label1    Label2    Label3\n",
    "Output_Unit_1     0.98       0.02      0\n",
    "Output_Unit_2     0.33       0.33      0.33\n",
    "Output_Unit_3     0.25       0.50      0.25\n",
    "Output_Unit_4     0.05       0.45      0.499\n",
    "\n",
    "How would you extract the 'softmax' output for most probable predicted label? - Use argmax."
   ]
  },
  {
   "cell_type": "code",
   "execution_count": 2,
   "id": "70d54719",
   "metadata": {},
   "outputs": [],
   "source": [
    "arr = np.array([\n",
    "    [0.98, 0.02, 0],\n",
    "    [0.33, 0.33, 0.33],\n",
    "    [0.25, 0.50, 0.25],\n",
    "    [0.05, 0.45, 0.499]\n",
    "])"
   ]
  },
  {
   "cell_type": "code",
   "execution_count": 3,
   "id": "06f32f7a",
   "metadata": {},
   "outputs": [
    {
     "data": {
      "text/plain": [
       "array([0, 0, 1, 2], dtype=int64)"
      ]
     },
     "execution_count": 3,
     "metadata": {},
     "output_type": "execute_result"
    }
   ],
   "source": [
    "np.argmax(arr, axis=1)"
   ]
  },
  {
   "cell_type": "code",
   "execution_count": 4,
   "id": "016b27a6",
   "metadata": {},
   "outputs": [],
   "source": [
    "class_labels = {0: 'Label1', 1: 'Label2', 2: 'Label3'}"
   ]
  },
  {
   "cell_type": "code",
   "execution_count": 8,
   "id": "3ae0354c",
   "metadata": {},
   "outputs": [
    {
     "data": {
      "text/plain": [
       "['Label1', 'Label1', 'Label2', 'Label3']"
      ]
     },
     "execution_count": 8,
     "metadata": {},
     "output_type": "execute_result"
    }
   ],
   "source": [
    "list(map(lambda x: class_labels[x], np.argmax(arr, axis=1)))"
   ]
  },
  {
   "cell_type": "markdown",
   "id": "ab136aba",
   "metadata": {},
   "source": [
    "### numpy.linalg.solve"
   ]
  },
  {
   "cell_type": "code",
   "execution_count": 9,
   "id": "69942695",
   "metadata": {},
   "outputs": [],
   "source": [
    "A = np.array([[1,2],[3,4]]) \n",
    "B = np.array([[10],[20]])"
   ]
  },
  {
   "cell_type": "code",
   "execution_count": 10,
   "id": "8a38fc4e",
   "metadata": {},
   "outputs": [
    {
     "data": {
      "text/plain": [
       "array([[1, 2],\n",
       "       [3, 4]])"
      ]
     },
     "execution_count": 10,
     "metadata": {},
     "output_type": "execute_result"
    }
   ],
   "source": [
    "A"
   ]
  },
  {
   "cell_type": "code",
   "execution_count": 11,
   "id": "ba2e1056",
   "metadata": {},
   "outputs": [
    {
     "data": {
      "text/plain": [
       "array([[10],\n",
       "       [20]])"
      ]
     },
     "execution_count": 11,
     "metadata": {},
     "output_type": "execute_result"
    }
   ],
   "source": [
    "B"
   ]
  },
  {
   "cell_type": "code",
   "execution_count": 13,
   "id": "2a827570",
   "metadata": {},
   "outputs": [
    {
     "data": {
      "text/plain": [
       "array([[0.],\n",
       "       [5.]])"
      ]
     },
     "execution_count": 13,
     "metadata": {},
     "output_type": "execute_result"
    }
   ],
   "source": [
    "res = np.linalg.solve(A, B)\n",
    "res"
   ]
  },
  {
   "cell_type": "code",
   "execution_count": 14,
   "id": "6f28cec5",
   "metadata": {},
   "outputs": [
    {
     "data": {
      "text/plain": [
       "array([[10.],\n",
       "       [20.]])"
      ]
     },
     "execution_count": 14,
     "metadata": {},
     "output_type": "execute_result"
    }
   ],
   "source": [
    "np.matmul(A, res)"
   ]
  },
  {
   "cell_type": "markdown",
   "id": "d4bce2dd",
   "metadata": {},
   "source": [
    "### Item-item collaborative filtering\n",
    "Explanation on how it works from:\n",
    "https://www.geeksforgeeks.org/item-to-item-based-collaborative-filtering/  => no code in here\n",
    "\n",
    "Formula for Cosine Similarity:\n",
    "\n",
    "$$Similarity(\\vec A, \\vec B) = \\frac{\\vec A \\cdot \\vec B}{||\\vec A||*||\\vec B||}$$\n",
    "\n",
    "Prediction Computation: The second stage involves executing a recommendation system. It uses the items (already rated by the user) that are most similar to the missing item to generate rating. We hence try to generate predictions based on the ratings of similar products. We compute this using a formula which computes rating for a particular item using weighted sum of the ratings of the other similar products.\n",
    "\n",
    "$$rating(U, I_i) = \\frac {\\sum_{j}rating(U, I_j)*s_{ij}}{\\sum_{j}s_{ij}}$$ "
   ]
  },
  {
   "cell_type": "code",
   "execution_count": 28,
   "id": "481c232f",
   "metadata": {},
   "outputs": [],
   "source": [
    "import numpy as np\n",
    "import pandas as pd"
   ]
  },
  {
   "cell_type": "code",
   "execution_count": 29,
   "id": "e60a9023",
   "metadata": {},
   "outputs": [
    {
     "data": {
      "text/html": [
       "<div>\n",
       "<style scoped>\n",
       "    .dataframe tbody tr th:only-of-type {\n",
       "        vertical-align: middle;\n",
       "    }\n",
       "\n",
       "    .dataframe tbody tr th {\n",
       "        vertical-align: top;\n",
       "    }\n",
       "\n",
       "    .dataframe thead th {\n",
       "        text-align: right;\n",
       "    }\n",
       "</style>\n",
       "<table border=\"1\" class=\"dataframe\">\n",
       "  <thead>\n",
       "    <tr style=\"text-align: right;\">\n",
       "      <th></th>\n",
       "      <th>Item_1</th>\n",
       "      <th>Item_2</th>\n",
       "      <th>Item_3</th>\n",
       "    </tr>\n",
       "  </thead>\n",
       "  <tbody>\n",
       "    <tr>\n",
       "      <th>User_1</th>\n",
       "      <td>2.0</td>\n",
       "      <td>NaN</td>\n",
       "      <td>3.0</td>\n",
       "    </tr>\n",
       "    <tr>\n",
       "      <th>User_2</th>\n",
       "      <td>5.0</td>\n",
       "      <td>2.0</td>\n",
       "      <td>NaN</td>\n",
       "    </tr>\n",
       "    <tr>\n",
       "      <th>User_3</th>\n",
       "      <td>3.0</td>\n",
       "      <td>3.0</td>\n",
       "      <td>1.0</td>\n",
       "    </tr>\n",
       "    <tr>\n",
       "      <th>User_4</th>\n",
       "      <td>NaN</td>\n",
       "      <td>2.0</td>\n",
       "      <td>2.0</td>\n",
       "    </tr>\n",
       "  </tbody>\n",
       "</table>\n",
       "</div>"
      ],
      "text/plain": [
       "        Item_1  Item_2  Item_3\n",
       "User_1     2.0     NaN     3.0\n",
       "User_2     5.0     2.0     NaN\n",
       "User_3     3.0     3.0     1.0\n",
       "User_4     NaN     2.0     2.0"
      ]
     },
     "execution_count": 29,
     "metadata": {},
     "output_type": "execute_result"
    }
   ],
   "source": [
    "df = pd.DataFrame({'Item_1': [2, 5, 3, np.nan],\n",
    "                   'Item_2': [np.nan, 2, 3, 2],\n",
    "                   'Item_3': [3, np.nan, 1, 2]}, index=['User_1', 'User_2', 'User_3', 'User_4'])\n",
    "df"
   ]
  },
  {
   "cell_type": "markdown",
   "id": "9594249d",
   "metadata": {},
   "source": [
    "Step 1: Finding similarities of all the item pairs.\n",
    "\n",
    "Form the item pairs. For example in this example the item pairs are \n",
    "* (Item_1, Item_2)\n",
    "* (Item_1, Item_3)\n",
    "* (Item_2, Item_3)\n",
    "\n",
    "Select each item to pair one by one. After this, we find all the users who have rated for both the items in the item pair. Form a vector for each item and calculate the similarity between the two items using the cosine formula stated above.\n",
    "\n",
    "* Sim(Item1, Item2)\n",
    "In the table, we can see only User_2 and User_3 have rated for both items 1 and 2. \n",
    "Thus, let I1 be vector for Item_1 and I2 be for Item_2.\n",
    "\n",
    "$$Similarity(Item1, Item2) = \\frac{(5 * 2) + (3 * 3)} {\\sqrt{5^{2} + 3^{2}}{\\sqrt{2^{2} + 3^{2}}}} = 0.90$$\n",
    "\n",
    "* Sim(Item2, Item3)\n",
    "$$Similarity(Item2, Item3) = \\frac{(3 * 1) + (2 * 2)} {\\sqrt{3^{2} + 2^{2}}{\\sqrt{1^{2} + 2^{2}}}} = 0.868$$"
   ]
  },
  {
   "cell_type": "markdown",
   "id": "945d9763",
   "metadata": {},
   "source": [
    "Step 2: Generating the missing ratings in the table\n",
    "\n",
    "Now, in this step we calculate the ratings that are missing in the table.\n",
    "\n",
    "Rating of Item_2 for User_1:\n",
    "\n",
    "$$R(U1, I2) = \\frac{(2 * 0.90) + (3 * 0.868)}{(0.90 + 0.868)} = 2.49$$"
   ]
  },
  {
   "cell_type": "code",
   "execution_count": 30,
   "id": "eb6b2f00",
   "metadata": {},
   "outputs": [],
   "source": [
    "def cosine_similarity(A, B):\n",
    "    return np.dot(A, B) / (np.linalg.norm(A) * np.linalg.norm(B))"
   ]
  },
  {
   "cell_type": "code",
   "execution_count": 31,
   "id": "48988836",
   "metadata": {},
   "outputs": [],
   "source": [
    "# find pair elements in both col1 (str - column name) and col2 (str) that have ratings (not np.nan)\n",
    "def item_overlap(col1, col2):\n",
    "    a = []; b = []\n",
    "    for i, vals in enumerate(zip(df.loc[:, col1], df.loc[:, col2])):\n",
    "        if (not np.isnan(vals[0])) and (not np.isnan(vals[1])):\n",
    "            a.append(vals[0])\n",
    "            b.append(vals[1])\n",
    "    return np.array(a), np.array(b)  "
   ]
  },
  {
   "cell_type": "code",
   "execution_count": 32,
   "id": "e000be29",
   "metadata": {},
   "outputs": [],
   "source": [
    "from itertools import combinations"
   ]
  },
  {
   "cell_type": "code",
   "execution_count": 25,
   "id": "11df4834",
   "metadata": {},
   "outputs": [
    {
     "data": {
      "text/plain": [
       "Index(['Item_1', 'Item_2', 'Item_3'], dtype='object')"
      ]
     },
     "execution_count": 25,
     "metadata": {},
     "output_type": "execute_result"
    }
   ],
   "source": [
    "df.columns"
   ]
  },
  {
   "cell_type": "code",
   "execution_count": 29,
   "id": "4b375843",
   "metadata": {},
   "outputs": [
    {
     "data": {
      "text/plain": [
       "[('Item_1', 'Item_2'), ('Item_1', 'Item_3'), ('Item_2', 'Item_3')]"
      ]
     },
     "execution_count": 29,
     "metadata": {},
     "output_type": "execute_result"
    }
   ],
   "source": [
    "list(combinations(df.columns, 2))"
   ]
  },
  {
   "cell_type": "code",
   "execution_count": 33,
   "id": "5b1ffae2",
   "metadata": {},
   "outputs": [],
   "source": [
    "# all pairwise combinations of items (df.columns)\n",
    "pairwise_combinations = list(combinations(df.columns, 2))\n",
    "\n",
    "cos_sims = {}\n",
    "for tuple_ in pairwise_combinations:\n",
    "    a, b = item_overlap(tuple_[0], tuple_[1])\n",
    "    cos_sims[tuple_] = cosine_similarity(a, b)"
   ]
  },
  {
   "cell_type": "code",
   "execution_count": 34,
   "id": "06173525",
   "metadata": {},
   "outputs": [
    {
     "data": {
      "text/plain": [
       "{('Item_1', 'Item_2'): 0.9037378388935388,\n",
       " ('Item_1', 'Item_3'): 0.7893522173763263,\n",
       " ('Item_2', 'Item_3'): 0.8682431421244593}"
      ]
     },
     "execution_count": 34,
     "metadata": {},
     "output_type": "execute_result"
    }
   ],
   "source": [
    "cos_sims"
   ]
  },
  {
   "cell_type": "code",
   "execution_count": 35,
   "id": "63355931",
   "metadata": {},
   "outputs": [],
   "source": [
    "col_labels = {0: 'Item_1', 1: 'Item_2', 2: 'Item_3'}\n",
    "col_names = np.array(['Item_1', 'Item_2', 'Item_3'])\n",
    "\n",
    "# predict rating (for nan values in the data)\n",
    "# get row index and col index of nan values\n",
    "idx_row, idx_col = np.where(pd.isnull(df))\n",
    "\n",
    "for i, j in zip(idx_row, idx_col):\n",
    "    col_to_predict = col_labels[j]\n",
    "    based_on_cols = np.delete(col_names, j)\n",
    "    \n",
    "    # get cosine similarity among columns of interest\n",
    "    rating_numerator = 0\n",
    "    rating_denominator = 0\n",
    "    for col in based_on_cols:\n",
    "        pair = (col, col_to_predict)\n",
    "        \n",
    "        # sort tuple based on the item number, so we can find item-item similarity in cos_sims dictionary\n",
    "        # cos_sims dictionary have keys - all pairwise combinations of items (columns), ex: ('Item_1', 'Item_2')\n",
    "        pair_sorted = tuple(sorted(pair, key=lambda x: x.split('_')[1]))\n",
    "        sim = cos_sims[pair_sorted]\n",
    "        \n",
    "        col_idx = np.argwhere(col_names == col)[0][0]\n",
    "        rating_numerator += sim * df.iloc[i, col_idx]\n",
    "        rating_denominator += sim\n",
    "    #res = rating_numerator/rating_denominator\n",
    "    df.iloc[i, j] = rating_numerator/rating_denominator"
   ]
  },
  {
   "cell_type": "code",
   "execution_count": 12,
   "id": "2f842654",
   "metadata": {},
   "outputs": [
    {
     "data": {
      "text/html": [
       "<div>\n",
       "<style scoped>\n",
       "    .dataframe tbody tr th:only-of-type {\n",
       "        vertical-align: middle;\n",
       "    }\n",
       "\n",
       "    .dataframe tbody tr th {\n",
       "        vertical-align: top;\n",
       "    }\n",
       "\n",
       "    .dataframe thead th {\n",
       "        text-align: right;\n",
       "    }\n",
       "</style>\n",
       "<table border=\"1\" class=\"dataframe\">\n",
       "  <thead>\n",
       "    <tr style=\"text-align: right;\">\n",
       "      <th></th>\n",
       "      <th>Item_1</th>\n",
       "      <th>Item_2</th>\n",
       "      <th>Item_3</th>\n",
       "    </tr>\n",
       "  </thead>\n",
       "  <tbody>\n",
       "    <tr>\n",
       "      <th>User_1</th>\n",
       "      <td>2.0</td>\n",
       "      <td>NaN</td>\n",
       "      <td>3.0</td>\n",
       "    </tr>\n",
       "    <tr>\n",
       "      <th>User_2</th>\n",
       "      <td>5.0</td>\n",
       "      <td>2.0</td>\n",
       "      <td>NaN</td>\n",
       "    </tr>\n",
       "    <tr>\n",
       "      <th>User_3</th>\n",
       "      <td>3.0</td>\n",
       "      <td>3.0</td>\n",
       "      <td>1.0</td>\n",
       "    </tr>\n",
       "    <tr>\n",
       "      <th>User_4</th>\n",
       "      <td>NaN</td>\n",
       "      <td>2.0</td>\n",
       "      <td>2.0</td>\n",
       "    </tr>\n",
       "  </tbody>\n",
       "</table>\n",
       "</div>"
      ],
      "text/plain": [
       "        Item_1  Item_2  Item_3\n",
       "User_1     2.0     NaN     3.0\n",
       "User_2     5.0     2.0     NaN\n",
       "User_3     3.0     3.0     1.0\n",
       "User_4     NaN     2.0     2.0"
      ]
     },
     "execution_count": 12,
     "metadata": {},
     "output_type": "execute_result"
    }
   ],
   "source": [
    "# df   # before running the above cell code"
   ]
  },
  {
   "cell_type": "code",
   "execution_count": 37,
   "id": "3fa17361",
   "metadata": {},
   "outputs": [
    {
     "data": {
      "text/html": [
       "<div>\n",
       "<style scoped>\n",
       "    .dataframe tbody tr th:only-of-type {\n",
       "        vertical-align: middle;\n",
       "    }\n",
       "\n",
       "    .dataframe tbody tr th {\n",
       "        vertical-align: top;\n",
       "    }\n",
       "\n",
       "    .dataframe thead th {\n",
       "        text-align: right;\n",
       "    }\n",
       "</style>\n",
       "<table border=\"1\" class=\"dataframe\">\n",
       "  <thead>\n",
       "    <tr style=\"text-align: right;\">\n",
       "      <th></th>\n",
       "      <th>Item_1</th>\n",
       "      <th>Item_2</th>\n",
       "      <th>Item_3</th>\n",
       "    </tr>\n",
       "  </thead>\n",
       "  <tbody>\n",
       "    <tr>\n",
       "      <th>User_1</th>\n",
       "      <td>2.0</td>\n",
       "      <td>2.49</td>\n",
       "      <td>3.00</td>\n",
       "    </tr>\n",
       "    <tr>\n",
       "      <th>User_2</th>\n",
       "      <td>5.0</td>\n",
       "      <td>2.00</td>\n",
       "      <td>3.43</td>\n",
       "    </tr>\n",
       "    <tr>\n",
       "      <th>User_3</th>\n",
       "      <td>3.0</td>\n",
       "      <td>3.00</td>\n",
       "      <td>1.00</td>\n",
       "    </tr>\n",
       "    <tr>\n",
       "      <th>User_4</th>\n",
       "      <td>2.0</td>\n",
       "      <td>2.00</td>\n",
       "      <td>2.00</td>\n",
       "    </tr>\n",
       "  </tbody>\n",
       "</table>\n",
       "</div>"
      ],
      "text/plain": [
       "        Item_1  Item_2  Item_3\n",
       "User_1     2.0    2.49    3.00\n",
       "User_2     5.0    2.00    3.43\n",
       "User_3     3.0    3.00    1.00\n",
       "User_4     2.0    2.00    2.00"
      ]
     },
     "execution_count": 37,
     "metadata": {},
     "output_type": "execute_result"
    }
   ],
   "source": [
    "df.round(2)   # after running the above cell code"
   ]
  },
  {
   "cell_type": "markdown",
   "id": "2a8cf7a5",
   "metadata": {},
   "source": [
    "### Sparse Matrix Operations\n",
    "There exists various formats in which sparse matrices can be represented. Formats can be divided into two groups:\n",
    "\n",
    "* Those that support efficient modification, such as DOK (Dictionary of keys), LIL (List of lists), or COO (Coordinate list). These are typically used to construct the matrices.\n",
    "* Those that support efficient access and matrix operations, such as CSR (Compressed Sparse Row) or CSC (Compressed Sparse Column). The two types of CS (Compressed Sparse) Matrices:\n",
    "    1. csr_matrix considers row first\n",
    "    2. csc_matrix considers column first\n",
    "\n",
    "Coordinate list (COO)\n",
    "\n",
    "COO stores a list of (row, column, value) tuples. Ideally, the entries are sorted (by row index, then column index) to improve random access times. This is another format which is good for incremental matrix construction\n",
    "\n",
    "'coo_matrix' is optimized to construct a sparse matrix. It is internally different than csr_matrix but when you simply print, it looks same.\n",
    "\n",
    "Compressed sparse Row (CSR)\n",
    "\n",
    "The compressed sparse row (CSR) or compressed row storage (CRS) format represents a matrix M by three (one-dimensional) arrays, that respectively contain nonzero values, the extents of rows, and column indices. This format allows fast row access and matrix-vector multiplications.\n",
    "\n",
    "The CSR format stores a sparse m × n matrix M in row form using three (one-dimensional) arrays (A, IA, JA). Let NNZ denote the number of nonzero entries in M. (Note that zero-based indices shall be used here.)"
   ]
  },
  {
   "cell_type": "code",
   "execution_count": 2,
   "id": "bac6ee51",
   "metadata": {},
   "outputs": [],
   "source": [
    "mat = [[1, 0, 0],\n",
    "       [5, 0, 2],\n",
    "       [0, -1, 0],\n",
    "       [0, 0, 3]]"
   ]
  },
  {
   "cell_type": "code",
   "execution_count": null,
   "id": "e3e683d1",
   "metadata": {},
   "outputs": [],
   "source": [
    "csr_matrix gives the position of non-zero element in the row first then goes to second row, then to third and so on. \n",
    "for instance, csr_matrix(mat) returns:\n",
    "\n",
    "(0, 0)  1.0 -- first row\n",
    "(1, 0)  5.0 -- second row\n",
    "(1, 2)  2.0 -- second row\n",
    "(2, 1) -1.0 -- third row\n",
    "(3, 2)  3.0 -- fourth row\n",
    "\n",
    "Similarly csc_matrix gives the position of non-zero elements in the first column, then second column, and so on.\n",
    "\n",
    "(0, 0)  1.0 -- first column\n",
    "(1, 0)  5.0 -- first column\n",
    "(2, 1) -1.0 -- second column\n",
    "(1, 2)  2.0 -- third column\n",
    "(3, 2)  3.0 -- third column\n",
    "\n",
    "Both csr_matrix and csc_matrix are optimized for efficient access, matrix operations such as row/column slicing \n",
    "and vector operations."
   ]
  },
  {
   "cell_type": "code",
   "execution_count": 3,
   "id": "faa74102",
   "metadata": {},
   "outputs": [],
   "source": [
    "from scipy.sparse import csr_matrix, csc_matrix"
   ]
  },
  {
   "cell_type": "code",
   "execution_count": 4,
   "id": "322391ed",
   "metadata": {},
   "outputs": [
    {
     "data": {
      "text/plain": [
       "<4x3 sparse matrix of type '<class 'numpy.intc'>'\n",
       "\twith 5 stored elements in Compressed Sparse Row format>"
      ]
     },
     "execution_count": 4,
     "metadata": {},
     "output_type": "execute_result"
    }
   ],
   "source": [
    "csr_matrix(mat)"
   ]
  },
  {
   "cell_type": "code",
   "execution_count": 9,
   "id": "43c04b3c",
   "metadata": {},
   "outputs": [
    {
     "name": "stdout",
     "output_type": "stream",
     "text": [
      "  (0, 0)\t1\n",
      "  (1, 0)\t5\n",
      "  (1, 2)\t2\n",
      "  (2, 1)\t-1\n",
      "  (3, 2)\t3\n"
     ]
    }
   ],
   "source": [
    "print(csr_matrix(mat))"
   ]
  },
  {
   "cell_type": "markdown",
   "id": "cf816217",
   "metadata": {},
   "source": [
    "### Sparse data structures in Python\n",
    "https://rushter.com/blog/scipy-sparse-matrices/"
   ]
  },
  {
   "cell_type": "code",
   "execution_count": 3,
   "id": "f2e410b1",
   "metadata": {},
   "outputs": [],
   "source": [
    "import numpy as np\n",
    "from scipy.sparse import random\n",
    "from scipy.sparse import csc_matrix"
   ]
  },
  {
   "cell_type": "code",
   "execution_count": 2,
   "id": "e060d76c",
   "metadata": {},
   "outputs": [
    {
     "data": {
      "text/plain": [
       "array([[0, 0, 0, 0],\n",
       "       [0, 0, 0, 0],\n",
       "       [0, 0, 0, 0]], dtype=int8)"
      ]
     },
     "execution_count": 2,
     "metadata": {},
     "output_type": "execute_result"
    }
   ],
   "source": [
    "csc_matrix((3, 4), dtype=np.int8).toarray()"
   ]
  },
  {
   "cell_type": "code",
   "execution_count": 4,
   "id": "010e5281",
   "metadata": {},
   "outputs": [],
   "source": [
    "# get size of a sparse matrix\n",
    "def get_sparse_size(matrix):\n",
    "    return int((matrix.data.nbytes + matrix.indptr.nbytes + matrix.indices.nbytes) / 1024.)"
   ]
  },
  {
   "cell_type": "code",
   "execution_count": 5,
   "id": "47e86c02",
   "metadata": {},
   "outputs": [],
   "source": [
    "# create a sparse matrix of size 1000 x 100000\n",
    "sparse_mat = random(10**3, 10**5, format='csr')"
   ]
  },
  {
   "cell_type": "code",
   "execution_count": 15,
   "id": "56351b46",
   "metadata": {},
   "outputs": [
    {
     "name": "stdout",
     "output_type": "stream",
     "text": [
      "  (116, 0)\t0.07412506619622572\n",
      "  (199, 0)\t0.4292374404234104\n",
      "  (326, 0)\t0.6865147992157453\n",
      "  (594, 0)\t0.9992985987289552\n",
      "  (604, 0)\t0.8453082937057\n",
      "  (633, 0)\t0.2976305163871862\n",
      "  (721, 0)\t0.30951536700189275\n",
      "  (765, 0)\t0.6681337189168695\n",
      "  (913, 0)\t0.6540181790970657\n",
      "  (915, 0)\t0.19888838688622723\n",
      "  (993, 0)\t0.24604527550686672\n"
     ]
    }
   ],
   "source": [
    "print(sparse_mat[:, 0])"
   ]
  },
  {
   "cell_type": "code",
   "execution_count": 21,
   "id": "3f12f5c2",
   "metadata": {},
   "outputs": [
    {
     "name": "stdout",
     "output_type": "stream",
     "text": [
      "The size of sparse_mat is 11722 KiB\n"
     ]
    }
   ],
   "source": [
    "sparse_size = get_sparse_size(sparse_mat)\n",
    "print('The size of sparse_mat is %d KiB' % sparse_size)"
   ]
  },
  {
   "cell_type": "code",
   "execution_count": 20,
   "id": "735ff868",
   "metadata": {},
   "outputs": [
    {
     "name": "stdout",
     "output_type": "stream",
     "text": [
      "The size of regular matrix is 781250 KiB\n"
     ]
    }
   ],
   "source": [
    "# convert sparse_mat to a regular matrix and get its size\n",
    "size = sparse_mat.toarray().nbytes / 1024.\n",
    "print('The size of regular matrix is %d KiB' % size)"
   ]
  },
  {
   "cell_type": "code",
   "execution_count": 27,
   "id": "11dd2c87",
   "metadata": {},
   "outputs": [
    {
     "name": "stdout",
     "output_type": "stream",
     "text": [
      "Data compression ratio is 66.65 %\n"
     ]
    }
   ],
   "source": [
    "print('Data compression ratio is %s' % np.round(size/sparse_size, 2), '%')"
   ]
  },
  {
   "cell_type": "code",
   "execution_count": 57,
   "id": "48d4a084",
   "metadata": {},
   "outputs": [
    {
     "data": {
      "text/plain": [
       "array([[0.        , 0.72175532, 0.        , 0.        , 0.        ],\n",
       "       [0.29187607, 0.        , 0.        , 0.        , 0.        ],\n",
       "       [0.71457578, 0.        , 0.54254437, 0.        , 0.        ],\n",
       "       [0.        , 0.        , 0.91777412, 0.        , 0.        ],\n",
       "       [0.        , 0.        , 0.        , 0.14217005, 0.        ]])"
      ]
     },
     "execution_count": 57,
     "metadata": {},
     "output_type": "execute_result"
    }
   ],
   "source": [
    "np.random.seed(10)\n",
    "\n",
    "# Generate a random sparse matrix\n",
    "matrix = random(5, 5, format='csr', density=0.25)\n",
    "matrix.toarray()"
   ]
  },
  {
   "cell_type": "code",
   "execution_count": 58,
   "id": "b4a358bd",
   "metadata": {},
   "outputs": [
    {
     "data": {
      "text/plain": [
       "array([0.72175532, 0.29187607, 0.71457578, 0.54254437, 0.91777412,\n",
       "       0.14217005])"
      ]
     },
     "execution_count": 58,
     "metadata": {},
     "output_type": "execute_result"
    }
   ],
   "source": [
    "matrix.data[:]"
   ]
  },
  {
   "cell_type": "code",
   "execution_count": 59,
   "id": "322afd40",
   "metadata": {},
   "outputs": [
    {
     "data": {
      "text/plain": [
       "(6,)"
      ]
     },
     "execution_count": 59,
     "metadata": {},
     "output_type": "execute_result"
    }
   ],
   "source": [
    "matrix.data.shape"
   ]
  },
  {
   "cell_type": "code",
   "execution_count": 60,
   "id": "cabc67cb",
   "metadata": {},
   "outputs": [],
   "source": [
    "# replace all non zero values with index number\n",
    "matrix.data[:] = np.arange(1, matrix.data.shape[0]+1)"
   ]
  },
  {
   "cell_type": "code",
   "execution_count": 61,
   "id": "be4ade48",
   "metadata": {},
   "outputs": [
    {
     "data": {
      "text/plain": [
       "array([[0., 1., 0., 0., 0.],\n",
       "       [2., 0., 0., 0., 0.],\n",
       "       [3., 0., 4., 0., 0.],\n",
       "       [0., 0., 5., 0., 0.],\n",
       "       [0., 0., 0., 6., 0.]])"
      ]
     },
     "execution_count": 61,
     "metadata": {},
     "output_type": "execute_result"
    }
   ],
   "source": [
    "matrix.toarray()"
   ]
  },
  {
   "cell_type": "code",
   "execution_count": 62,
   "id": "a2a7cc1e",
   "metadata": {},
   "outputs": [
    {
     "data": {
      "text/plain": [
       "array([1., 2., 3., 4., 5., 6.])"
      ]
     },
     "execution_count": 62,
     "metadata": {},
     "output_type": "execute_result"
    }
   ],
   "source": [
    "matrix.data"
   ]
  },
  {
   "cell_type": "code",
   "execution_count": 63,
   "id": "b17be654",
   "metadata": {},
   "outputs": [
    {
     "data": {
      "text/plain": [
       "array([1, 0, 0, 2, 2, 3])"
      ]
     },
     "execution_count": 63,
     "metadata": {},
     "output_type": "execute_result"
    }
   ],
   "source": [
    "matrix.indices"
   ]
  },
  {
   "cell_type": "code",
   "execution_count": 64,
   "id": "3e78441b",
   "metadata": {},
   "outputs": [
    {
     "data": {
      "text/plain": [
       "array([0, 1, 2, 4, 5, 6])"
      ]
     },
     "execution_count": 64,
     "metadata": {},
     "output_type": "execute_result"
    }
   ],
   "source": [
    "matrix.indptr"
   ]
  },
  {
   "cell_type": "code",
   "execution_count": 67,
   "id": "120d0bbb",
   "metadata": {},
   "outputs": [],
   "source": [
    "# a simplified algorithm of item indexing\n",
    "def get_item(row_index, column_index, matrix):\n",
    "    # Get row values\n",
    "    row_start = matrix.indptr[row_index]\n",
    "    row_end = matrix.indptr[row_index + 1]\n",
    "    row_values = matrix.data[row_start:row_end]\n",
    "\n",
    "    # Get column indices of occupied values\n",
    "    index_start = matrix.indptr[row_index]\n",
    "    index_end = matrix.indptr[row_index + 1]\n",
    "\n",
    "    # contains indices of occupied cells at a specific row\n",
    "    row_indices = list(matrix.indices[index_start:index_end])\n",
    "\n",
    "    # Find a positional index for a specific column index\n",
    "    value_index = row_indices.index(column_index)\n",
    "\n",
    "    if value_index >= 0:\n",
    "        return row_values[value_index]\n",
    "    else:\n",
    "        # non-zero value is not found\n",
    "        return 0"
   ]
  },
  {
   "cell_type": "code",
   "execution_count": 69,
   "id": "5480d2d8",
   "metadata": {},
   "outputs": [
    {
     "data": {
      "text/plain": [
       "1.0"
      ]
     },
     "execution_count": 69,
     "metadata": {},
     "output_type": "execute_result"
    }
   ],
   "source": [
    "get_item(0, 1, matrix)"
   ]
  },
  {
   "cell_type": "code",
   "execution_count": 70,
   "id": "87b66d58",
   "metadata": {},
   "outputs": [
    {
     "data": {
      "text/plain": [
       "5.0"
      ]
     },
     "execution_count": 70,
     "metadata": {},
     "output_type": "execute_result"
    }
   ],
   "source": [
    "get_item(3, 2, matrix)"
   ]
  },
  {
   "cell_type": "code",
   "execution_count": null,
   "id": "7bf4591b",
   "metadata": {},
   "outputs": [],
   "source": []
  },
  {
   "cell_type": "code",
   "execution_count": null,
   "id": "bedb9ee2",
   "metadata": {},
   "outputs": [],
   "source": []
  }
 ],
 "metadata": {
  "kernelspec": {
   "display_name": "Python 3 (ipykernel)",
   "language": "python",
   "name": "python3"
  },
  "language_info": {
   "codemirror_mode": {
    "name": "ipython",
    "version": 3
   },
   "file_extension": ".py",
   "mimetype": "text/x-python",
   "name": "python",
   "nbconvert_exporter": "python",
   "pygments_lexer": "ipython3",
   "version": "3.11.3"
  }
 },
 "nbformat": 4,
 "nbformat_minor": 5
}
